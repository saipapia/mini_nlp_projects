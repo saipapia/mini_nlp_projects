{
 "cells": [
  {
   "cell_type": "code",
   "execution_count": 1,
   "id": "a4bae6c3",
   "metadata": {},
   "outputs": [],
   "source": [
    "#!pip install nltk"
   ]
  },
  {
   "cell_type": "code",
   "execution_count": 2,
   "id": "b7e945c4",
   "metadata": {},
   "outputs": [],
   "source": [
    "import nltk\n",
    "text=\"She is eating the food.\""
   ]
  },
  {
   "cell_type": "markdown",
   "id": "fed7fa11",
   "metadata": {},
   "source": [
    "## tokenization"
   ]
  },
  {
   "cell_type": "code",
   "execution_count": 3,
   "id": "2281b5fe",
   "metadata": {},
   "outputs": [
    {
     "data": {
      "text/plain": [
       "['she', 'is', 'eating', 'the', 'food', '.']"
      ]
     },
     "execution_count": 3,
     "metadata": {},
     "output_type": "execute_result"
    }
   ],
   "source": [
    "#nltk.download('punkt')\n",
    "sent_token=nltk.word_tokenize(text.lower())\n",
    "sent_token"
   ]
  },
  {
   "cell_type": "markdown",
   "id": "27b7aca5",
   "metadata": {},
   "source": [
    "## pos tagging"
   ]
  },
  {
   "cell_type": "code",
   "execution_count": 4,
   "id": "d161f754",
   "metadata": {},
   "outputs": [
    {
     "data": {
      "text/plain": [
       "[('she', 'PRP'),\n",
       " ('is', 'VBZ'),\n",
       " ('eating', 'VBG'),\n",
       " ('the', 'DT'),\n",
       " ('food', 'NN'),\n",
       " ('.', '.')]"
      ]
     },
     "execution_count": 4,
     "metadata": {},
     "output_type": "execute_result"
    }
   ],
   "source": [
    "#nltk.download('averaged_perceptron_tagger')\n",
    "pos_tags = nltk.pos_tag(sent_token)\n",
    "pos_tags"
   ]
  },
  {
   "cell_type": "markdown",
   "id": "4ebb863f",
   "metadata": {},
   "source": [
    "## lemmatization"
   ]
  },
  {
   "cell_type": "code",
   "execution_count": 5,
   "id": "bbace9f3",
   "metadata": {},
   "outputs": [
    {
     "data": {
      "text/plain": [
       "['be', 'eat', 'food']"
      ]
     },
     "execution_count": 5,
     "metadata": {},
     "output_type": "execute_result"
    }
   ],
   "source": [
    "#nltk.download('wordnet')\n",
    "from nltk.stem import WordNetLemmatizer\n",
    "lemmatizer = WordNetLemmatizer()\n",
    "\n",
    "#lemma1 = lemmatizer.lemmatize('is', 'v')\n",
    "\n",
    "sent_lemma = []\n",
    "for token, pos_tag in zip(sent_token, pos_tags):\n",
    "    #print(token, pos_tag[1][0].lower())\n",
    "    if pos_tag[1][0].lower() in ['n', 'v', 'a', 'r']:\n",
    "        lemma = lemmatizer.lemmatize(token, pos_tag[1][0].lower())\n",
    "        sent_lemma.append(lemma)\n",
    "        \n",
    "sent_lemma"
   ]
  },
  {
   "cell_type": "code",
   "execution_count": 6,
   "id": "b359f8ff",
   "metadata": {},
   "outputs": [],
   "source": [
    "import nltk\n",
    "from nltk.stem import WordNetLemmatizer\n",
    "lemmatizer = WordNetLemmatizer()\n",
    "\n",
    "def sent_match(text):\n",
    "    sent_token=nltk.word_tokenize(text.lower())\n",
    "    pos_tags = nltk.pos_tag(sent_token)\n",
    "    \n",
    "    sent_lemma = []\n",
    "    for token, pos_tag in zip(sent_token, pos_tags):\n",
    "        #print(token, pos_tag[1][0].lower())\n",
    "        if pos_tag[1][0].lower() in ['n', 'v', 'a', 'r']:\n",
    "            lemma = lemmatizer.lemmatize(token, pos_tag[1][0].lower())\n",
    "            sent_lemma.append(lemma)\n",
    "            \n",
    "    return sent_lemma"
   ]
  },
  {
   "cell_type": "code",
   "execution_count": 7,
   "id": "3345c477",
   "metadata": {},
   "outputs": [
    {
     "data": {
      "text/plain": [
       "['be', 'eat', 'food']"
      ]
     },
     "execution_count": 7,
     "metadata": {},
     "output_type": "execute_result"
    }
   ],
   "source": [
    "lemma1 = sent_match(\"She is eating the food.\")\n",
    "lemma1"
   ]
  },
  {
   "cell_type": "code",
   "execution_count": 8,
   "id": "bfb9b8cb",
   "metadata": {},
   "outputs": [
    {
     "data": {
      "text/plain": [
       "['be', 'enjoy', 'food', 'day']"
      ]
     },
     "execution_count": 8,
     "metadata": {},
     "output_type": "execute_result"
    }
   ],
   "source": [
    "lemma2 = sent_match(\"She was enjoying the food last day.\")\n",
    "lemma2"
   ]
  },
  {
   "cell_type": "code",
   "execution_count": null,
   "id": "addc0c50",
   "metadata": {},
   "outputs": [],
   "source": []
  }
 ],
 "metadata": {
  "kernelspec": {
   "display_name": "Python 3 (ipykernel)",
   "language": "python",
   "name": "python3"
  },
  "language_info": {
   "codemirror_mode": {
    "name": "ipython",
    "version": 3
   },
   "file_extension": ".py",
   "mimetype": "text/x-python",
   "name": "python",
   "nbconvert_exporter": "python",
   "pygments_lexer": "ipython3",
   "version": "3.11.5"
  }
 },
 "nbformat": 4,
 "nbformat_minor": 5
}
