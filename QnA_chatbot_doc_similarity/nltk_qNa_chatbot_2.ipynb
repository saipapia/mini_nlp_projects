{
 "cells": [
  {
   "cell_type": "code",
   "execution_count": 1,
   "id": "98d70343",
   "metadata": {},
   "outputs": [],
   "source": [
    "text=\"Plants are living things that grow in soil and use sunlight to make their own food. They come in many shapes and sizes, from tiny flowers to tall trees. Plants give us oxygen to breathe and provide food for animals, like fruits and vegetables.\"\n",
    "question=\"What are some examples of food that plants provide for animals?\""
   ]
  },
  {
   "cell_type": "code",
   "execution_count": 2,
   "id": "08c3aa48",
   "metadata": {},
   "outputs": [],
   "source": [
    "import nltk\n",
    "from nltk.stem import WordNetLemmatizer\n",
    "lemmatizer = WordNetLemmatizer()\n",
    "\n",
    "sentences_tokens=nltk.sent_tokenize(text)\n",
    "sentences_tokens.append(question)\n",
    "\n",
    "def sent_match(sent):\n",
    "    sent_token=nltk.word_tokenize(sent.lower())\n",
    "    pos_tags = nltk.pos_tag(sent_token)\n",
    "    \n",
    "    sent_lemma = []\n",
    "    for token, pos_tag in zip(sent_token, pos_tags):\n",
    "        #print(token, pos_tag[1][0].lower())\n",
    "        if pos_tag[1][0].lower() in ['n', 'v', 'a', 'r']:\n",
    "            lemma = lemmatizer.lemmatize(token, pos_tag[1][0].lower())\n",
    "            sent_lemma.append(lemma)\n",
    "            \n",
    "    return sent_lemma"
   ]
  },
  {
   "cell_type": "code",
   "execution_count": 3,
   "id": "b00770b1",
   "metadata": {},
   "outputs": [
    {
     "data": {
      "text/plain": [
       "['Plants are living things that grow in soil and use sunlight to make their own food.',\n",
       " 'They come in many shapes and sizes, from tiny flowers to tall trees.',\n",
       " 'Plants give us oxygen to breathe and provide food for animals, like fruits and vegetables.',\n",
       " 'What are some examples of food that plants provide for animals?']"
      ]
     },
     "execution_count": 3,
     "metadata": {},
     "output_type": "execute_result"
    }
   ],
   "source": [
    "sentences_tokens=nltk.sent_tokenize(text)\n",
    "sentences_tokens.append(question)\n",
    "sentences_tokens"
   ]
  },
  {
   "cell_type": "code",
   "execution_count": 4,
   "id": "3432c15d",
   "metadata": {},
   "outputs": [],
   "source": [
    "from sklearn.feature_extraction.text import TfidfVectorizer"
   ]
  },
  {
   "cell_type": "code",
   "execution_count": 5,
   "id": "696eb138",
   "metadata": {},
   "outputs": [
    {
     "data": {
      "text/html": [
       "<style>#sk-container-id-1 {color: black;}#sk-container-id-1 pre{padding: 0;}#sk-container-id-1 div.sk-toggleable {background-color: white;}#sk-container-id-1 label.sk-toggleable__label {cursor: pointer;display: block;width: 100%;margin-bottom: 0;padding: 0.3em;box-sizing: border-box;text-align: center;}#sk-container-id-1 label.sk-toggleable__label-arrow:before {content: \"▸\";float: left;margin-right: 0.25em;color: #696969;}#sk-container-id-1 label.sk-toggleable__label-arrow:hover:before {color: black;}#sk-container-id-1 div.sk-estimator:hover label.sk-toggleable__label-arrow:before {color: black;}#sk-container-id-1 div.sk-toggleable__content {max-height: 0;max-width: 0;overflow: hidden;text-align: left;background-color: #f0f8ff;}#sk-container-id-1 div.sk-toggleable__content pre {margin: 0.2em;color: black;border-radius: 0.25em;background-color: #f0f8ff;}#sk-container-id-1 input.sk-toggleable__control:checked~div.sk-toggleable__content {max-height: 200px;max-width: 100%;overflow: auto;}#sk-container-id-1 input.sk-toggleable__control:checked~label.sk-toggleable__label-arrow:before {content: \"▾\";}#sk-container-id-1 div.sk-estimator input.sk-toggleable__control:checked~label.sk-toggleable__label {background-color: #d4ebff;}#sk-container-id-1 div.sk-label input.sk-toggleable__control:checked~label.sk-toggleable__label {background-color: #d4ebff;}#sk-container-id-1 input.sk-hidden--visually {border: 0;clip: rect(1px 1px 1px 1px);clip: rect(1px, 1px, 1px, 1px);height: 1px;margin: -1px;overflow: hidden;padding: 0;position: absolute;width: 1px;}#sk-container-id-1 div.sk-estimator {font-family: monospace;background-color: #f0f8ff;border: 1px dotted black;border-radius: 0.25em;box-sizing: border-box;margin-bottom: 0.5em;}#sk-container-id-1 div.sk-estimator:hover {background-color: #d4ebff;}#sk-container-id-1 div.sk-parallel-item::after {content: \"\";width: 100%;border-bottom: 1px solid gray;flex-grow: 1;}#sk-container-id-1 div.sk-label:hover label.sk-toggleable__label {background-color: #d4ebff;}#sk-container-id-1 div.sk-serial::before {content: \"\";position: absolute;border-left: 1px solid gray;box-sizing: border-box;top: 0;bottom: 0;left: 50%;z-index: 0;}#sk-container-id-1 div.sk-serial {display: flex;flex-direction: column;align-items: center;background-color: white;padding-right: 0.2em;padding-left: 0.2em;position: relative;}#sk-container-id-1 div.sk-item {position: relative;z-index: 1;}#sk-container-id-1 div.sk-parallel {display: flex;align-items: stretch;justify-content: center;background-color: white;position: relative;}#sk-container-id-1 div.sk-item::before, #sk-container-id-1 div.sk-parallel-item::before {content: \"\";position: absolute;border-left: 1px solid gray;box-sizing: border-box;top: 0;bottom: 0;left: 50%;z-index: -1;}#sk-container-id-1 div.sk-parallel-item {display: flex;flex-direction: column;z-index: 1;position: relative;background-color: white;}#sk-container-id-1 div.sk-parallel-item:first-child::after {align-self: flex-end;width: 50%;}#sk-container-id-1 div.sk-parallel-item:last-child::after {align-self: flex-start;width: 50%;}#sk-container-id-1 div.sk-parallel-item:only-child::after {width: 0;}#sk-container-id-1 div.sk-dashed-wrapped {border: 1px dashed gray;margin: 0 0.4em 0.5em 0.4em;box-sizing: border-box;padding-bottom: 0.4em;background-color: white;}#sk-container-id-1 div.sk-label label {font-family: monospace;font-weight: bold;display: inline-block;line-height: 1.2em;}#sk-container-id-1 div.sk-label-container {text-align: center;}#sk-container-id-1 div.sk-container {/* jupyter's `normalize.less` sets `[hidden] { display: none; }` but bootstrap.min.css set `[hidden] { display: none !important; }` so we also need the `!important` here to be able to override the default hidden behavior on the sphinx rendered scikit-learn.org. See: https://github.com/scikit-learn/scikit-learn/issues/21755 */display: inline-block !important;position: relative;}#sk-container-id-1 div.sk-text-repr-fallback {display: none;}</style><div id=\"sk-container-id-1\" class=\"sk-top-container\"><div class=\"sk-text-repr-fallback\"><pre>TfidfVectorizer(tokenizer=&lt;function sent_match at 0x0000018DCB71A480&gt;)</pre><b>In a Jupyter environment, please rerun this cell to show the HTML representation or trust the notebook. <br />On GitHub, the HTML representation is unable to render, please try loading this page with nbviewer.org.</b></div><div class=\"sk-container\" hidden><div class=\"sk-item\"><div class=\"sk-estimator sk-toggleable\"><input class=\"sk-toggleable__control sk-hidden--visually\" id=\"sk-estimator-id-1\" type=\"checkbox\" checked><label for=\"sk-estimator-id-1\" class=\"sk-toggleable__label sk-toggleable__label-arrow\">TfidfVectorizer</label><div class=\"sk-toggleable__content\"><pre>TfidfVectorizer(tokenizer=&lt;function sent_match at 0x0000018DCB71A480&gt;)</pre></div></div></div></div></div>"
      ],
      "text/plain": [
       "TfidfVectorizer(tokenizer=<function sent_match at 0x0000018DCB71A480>)"
      ]
     },
     "execution_count": 5,
     "metadata": {},
     "output_type": "execute_result"
    }
   ],
   "source": [
    "tv=TfidfVectorizer(tokenizer=sent_match)\n",
    "tv"
   ]
  },
  {
   "cell_type": "code",
   "execution_count": 6,
   "id": "6b1bdf82",
   "metadata": {},
   "outputs": [
    {
     "name": "stderr",
     "output_type": "stream",
     "text": [
      "C:\\Users\\Lenovo\\anaconda3\\Lib\\site-packages\\sklearn\\feature_extraction\\text.py:525: UserWarning: The parameter 'token_pattern' will not be used since 'tokenizer' is not None'\n",
      "  warnings.warn(\n"
     ]
    },
    {
     "data": {
      "text/plain": [
       "<4x24 sparse matrix of type '<class 'numpy.float64'>'\n",
       "\twith 31 stored elements in Compressed Sparse Row format>"
      ]
     },
     "execution_count": 6,
     "metadata": {},
     "output_type": "execute_result"
    }
   ],
   "source": [
    "tf=tv.fit_transform(sentences_tokens)\n",
    "tf"
   ]
  },
  {
   "cell_type": "code",
   "execution_count": 7,
   "id": "3eb6773c",
   "metadata": {},
   "outputs": [
    {
     "data": {
      "text/plain": [
       "array([[0.        , 0.27144011, 0.        , 0.        , 0.        ,\n",
       "        0.        , 0.21975416, 0.        , 0.        , 0.34428736,\n",
       "        0.34428736, 0.34428736, 0.        , 0.21975416, 0.        ,\n",
       "        0.        , 0.        , 0.34428736, 0.34428736, 0.        ,\n",
       "        0.34428736, 0.        , 0.34428736, 0.        ],\n",
       "       [0.        , 0.        , 0.        , 0.40824829, 0.        ,\n",
       "        0.40824829, 0.        , 0.        , 0.        , 0.        ,\n",
       "        0.        , 0.        , 0.        , 0.        , 0.        ,\n",
       "        0.40824829, 0.40824829, 0.        , 0.        , 0.40824829,\n",
       "        0.        , 0.40824829, 0.        , 0.        ],\n",
       "       [0.29676449, 0.        , 0.37640812, 0.        , 0.        ,\n",
       "        0.        , 0.24025643, 0.37640812, 0.37640812, 0.        ,\n",
       "        0.        , 0.        , 0.37640812, 0.24025643, 0.29676449,\n",
       "        0.        , 0.        , 0.        , 0.        , 0.        ,\n",
       "        0.        , 0.        , 0.        , 0.37640812],\n",
       "       [0.41101031, 0.41101031, 0.        , 0.        , 0.52131446,\n",
       "        0.        , 0.33274827, 0.        , 0.        , 0.        ,\n",
       "        0.        , 0.        , 0.        , 0.33274827, 0.41101031,\n",
       "        0.        , 0.        , 0.        , 0.        , 0.        ,\n",
       "        0.        , 0.        , 0.        , 0.        ]])"
      ]
     },
     "execution_count": 7,
     "metadata": {},
     "output_type": "execute_result"
    }
   ],
   "source": [
    "tf.toarray()"
   ]
  },
  {
   "cell_type": "code",
   "execution_count": 8,
   "id": "3b35283e",
   "metadata": {},
   "outputs": [],
   "source": [
    "import pandas as pd"
   ]
  },
  {
   "cell_type": "code",
   "execution_count": 9,
   "id": "bdb71e6b",
   "metadata": {},
   "outputs": [
    {
     "data": {
      "text/html": [
       "<div>\n",
       "<style scoped>\n",
       "    .dataframe tbody tr th:only-of-type {\n",
       "        vertical-align: middle;\n",
       "    }\n",
       "\n",
       "    .dataframe tbody tr th {\n",
       "        vertical-align: top;\n",
       "    }\n",
       "\n",
       "    .dataframe thead th {\n",
       "        text-align: right;\n",
       "    }\n",
       "</style>\n",
       "<table border=\"1\" class=\"dataframe\">\n",
       "  <thead>\n",
       "    <tr style=\"text-align: right;\">\n",
       "      <th></th>\n",
       "      <th>animal</th>\n",
       "      <th>be</th>\n",
       "      <th>breathe</th>\n",
       "      <th>come</th>\n",
       "      <th>example</th>\n",
       "      <th>flower</th>\n",
       "      <th>food</th>\n",
       "      <th>fruit</th>\n",
       "      <th>give</th>\n",
       "      <th>grow</th>\n",
       "      <th>...</th>\n",
       "      <th>provide</th>\n",
       "      <th>shape</th>\n",
       "      <th>size</th>\n",
       "      <th>soil</th>\n",
       "      <th>sunlight</th>\n",
       "      <th>tall</th>\n",
       "      <th>thing</th>\n",
       "      <th>tree</th>\n",
       "      <th>use</th>\n",
       "      <th>vegetable</th>\n",
       "    </tr>\n",
       "  </thead>\n",
       "  <tbody>\n",
       "    <tr>\n",
       "      <th>0</th>\n",
       "      <td>0.000000</td>\n",
       "      <td>0.27144</td>\n",
       "      <td>0.000000</td>\n",
       "      <td>0.000000</td>\n",
       "      <td>0.000000</td>\n",
       "      <td>0.000000</td>\n",
       "      <td>0.219754</td>\n",
       "      <td>0.000000</td>\n",
       "      <td>0.000000</td>\n",
       "      <td>0.344287</td>\n",
       "      <td>...</td>\n",
       "      <td>0.000000</td>\n",
       "      <td>0.000000</td>\n",
       "      <td>0.000000</td>\n",
       "      <td>0.344287</td>\n",
       "      <td>0.344287</td>\n",
       "      <td>0.000000</td>\n",
       "      <td>0.344287</td>\n",
       "      <td>0.000000</td>\n",
       "      <td>0.344287</td>\n",
       "      <td>0.000000</td>\n",
       "    </tr>\n",
       "    <tr>\n",
       "      <th>1</th>\n",
       "      <td>0.000000</td>\n",
       "      <td>0.00000</td>\n",
       "      <td>0.000000</td>\n",
       "      <td>0.408248</td>\n",
       "      <td>0.000000</td>\n",
       "      <td>0.408248</td>\n",
       "      <td>0.000000</td>\n",
       "      <td>0.000000</td>\n",
       "      <td>0.000000</td>\n",
       "      <td>0.000000</td>\n",
       "      <td>...</td>\n",
       "      <td>0.000000</td>\n",
       "      <td>0.408248</td>\n",
       "      <td>0.408248</td>\n",
       "      <td>0.000000</td>\n",
       "      <td>0.000000</td>\n",
       "      <td>0.408248</td>\n",
       "      <td>0.000000</td>\n",
       "      <td>0.408248</td>\n",
       "      <td>0.000000</td>\n",
       "      <td>0.000000</td>\n",
       "    </tr>\n",
       "    <tr>\n",
       "      <th>2</th>\n",
       "      <td>0.296764</td>\n",
       "      <td>0.00000</td>\n",
       "      <td>0.376408</td>\n",
       "      <td>0.000000</td>\n",
       "      <td>0.000000</td>\n",
       "      <td>0.000000</td>\n",
       "      <td>0.240256</td>\n",
       "      <td>0.376408</td>\n",
       "      <td>0.376408</td>\n",
       "      <td>0.000000</td>\n",
       "      <td>...</td>\n",
       "      <td>0.296764</td>\n",
       "      <td>0.000000</td>\n",
       "      <td>0.000000</td>\n",
       "      <td>0.000000</td>\n",
       "      <td>0.000000</td>\n",
       "      <td>0.000000</td>\n",
       "      <td>0.000000</td>\n",
       "      <td>0.000000</td>\n",
       "      <td>0.000000</td>\n",
       "      <td>0.376408</td>\n",
       "    </tr>\n",
       "    <tr>\n",
       "      <th>3</th>\n",
       "      <td>0.411010</td>\n",
       "      <td>0.41101</td>\n",
       "      <td>0.000000</td>\n",
       "      <td>0.000000</td>\n",
       "      <td>0.521314</td>\n",
       "      <td>0.000000</td>\n",
       "      <td>0.332748</td>\n",
       "      <td>0.000000</td>\n",
       "      <td>0.000000</td>\n",
       "      <td>0.000000</td>\n",
       "      <td>...</td>\n",
       "      <td>0.411010</td>\n",
       "      <td>0.000000</td>\n",
       "      <td>0.000000</td>\n",
       "      <td>0.000000</td>\n",
       "      <td>0.000000</td>\n",
       "      <td>0.000000</td>\n",
       "      <td>0.000000</td>\n",
       "      <td>0.000000</td>\n",
       "      <td>0.000000</td>\n",
       "      <td>0.000000</td>\n",
       "    </tr>\n",
       "  </tbody>\n",
       "</table>\n",
       "<p>4 rows × 24 columns</p>\n",
       "</div>"
      ],
      "text/plain": [
       "     animal       be   breathe      come   example    flower      food  \\\n",
       "0  0.000000  0.27144  0.000000  0.000000  0.000000  0.000000  0.219754   \n",
       "1  0.000000  0.00000  0.000000  0.408248  0.000000  0.408248  0.000000   \n",
       "2  0.296764  0.00000  0.376408  0.000000  0.000000  0.000000  0.240256   \n",
       "3  0.411010  0.41101  0.000000  0.000000  0.521314  0.000000  0.332748   \n",
       "\n",
       "      fruit      give      grow  ...   provide     shape      size      soil  \\\n",
       "0  0.000000  0.000000  0.344287  ...  0.000000  0.000000  0.000000  0.344287   \n",
       "1  0.000000  0.000000  0.000000  ...  0.000000  0.408248  0.408248  0.000000   \n",
       "2  0.376408  0.376408  0.000000  ...  0.296764  0.000000  0.000000  0.000000   \n",
       "3  0.000000  0.000000  0.000000  ...  0.411010  0.000000  0.000000  0.000000   \n",
       "\n",
       "   sunlight      tall     thing      tree       use  vegetable  \n",
       "0  0.344287  0.000000  0.344287  0.000000  0.344287   0.000000  \n",
       "1  0.000000  0.408248  0.000000  0.408248  0.000000   0.000000  \n",
       "2  0.000000  0.000000  0.000000  0.000000  0.000000   0.376408  \n",
       "3  0.000000  0.000000  0.000000  0.000000  0.000000   0.000000  \n",
       "\n",
       "[4 rows x 24 columns]"
      ]
     },
     "execution_count": 9,
     "metadata": {},
     "output_type": "execute_result"
    }
   ],
   "source": [
    "df=pd.DataFrame(tf.toarray(), columns=tv.get_feature_names_out())\n",
    "df"
   ]
  },
  {
   "cell_type": "code",
   "execution_count": 10,
   "id": "e6fb5ca3",
   "metadata": {},
   "outputs": [],
   "source": [
    "#find the similarity\n",
    "from sklearn.metrics.pairwise import cosine_similarity"
   ]
  },
  {
   "cell_type": "code",
   "execution_count": 11,
   "id": "1206c708",
   "metadata": {},
   "outputs": [
    {
     "data": {
      "text/plain": [
       "array([[0.25781031, 0.        , 0.40383635, 1.        ]])"
      ]
     },
     "execution_count": 11,
     "metadata": {},
     "output_type": "execute_result"
    }
   ],
   "source": [
    "#compute similarity between sentences\n",
    "similarity_matrix=cosine_similarity(tf[-1], tf)\n",
    "similarity_matrix"
   ]
  },
  {
   "cell_type": "code",
   "execution_count": 12,
   "id": "3feb5ba8",
   "metadata": {},
   "outputs": [
    {
     "data": {
      "text/plain": [
       "2"
      ]
     },
     "execution_count": 12,
     "metadata": {},
     "output_type": "execute_result"
    }
   ],
   "source": [
    "similarity_matrix_index=similarity_matrix.argsort()[0][-2]\n",
    "similarity_matrix_index"
   ]
  },
  {
   "cell_type": "code",
   "execution_count": 13,
   "id": "18d04b49",
   "metadata": {},
   "outputs": [
    {
     "data": {
      "text/plain": [
       "array([0.25781031, 0.        , 0.40383635, 1.        ])"
      ]
     },
     "execution_count": 13,
     "metadata": {},
     "output_type": "execute_result"
    }
   ],
   "source": [
    "similarity_matrix_flat=similarity_matrix.flatten()\n",
    "similarity_matrix_flat"
   ]
  },
  {
   "cell_type": "code",
   "execution_count": 14,
   "id": "f614e639",
   "metadata": {},
   "outputs": [
    {
     "data": {
      "text/plain": [
       "array([0.        , 0.25781031, 0.40383635, 1.        ])"
      ]
     },
     "execution_count": 14,
     "metadata": {},
     "output_type": "execute_result"
    }
   ],
   "source": [
    "similarity_matrix_flat.sort()\n",
    "similarity_matrix_flat"
   ]
  },
  {
   "cell_type": "code",
   "execution_count": 15,
   "id": "9babd731",
   "metadata": {},
   "outputs": [
    {
     "data": {
      "text/plain": [
       "0.40383634666596807"
      ]
     },
     "execution_count": 15,
     "metadata": {},
     "output_type": "execute_result"
    }
   ],
   "source": [
    "coeff=similarity_matrix_flat[-2]\n",
    "coeff"
   ]
  },
  {
   "cell_type": "code",
   "execution_count": 16,
   "id": "d98347d0",
   "metadata": {},
   "outputs": [
    {
     "name": "stdout",
     "output_type": "stream",
     "text": [
      "Plants give us oxygen to breathe and provide food for animals, like fruits and vegetables.\n"
     ]
    }
   ],
   "source": [
    "if coeff>0.3:\n",
    "    print(sentences_tokens[similarity_matrix_index])"
   ]
  },
  {
   "cell_type": "code",
   "execution_count": 17,
   "id": "1427a920",
   "metadata": {},
   "outputs": [],
   "source": [
    "#question=\"What are some examples of food that plants provide for animals?\""
   ]
  }
 ],
 "metadata": {
  "kernelspec": {
   "display_name": "Python 3 (ipykernel)",
   "language": "python",
   "name": "python3"
  },
  "language_info": {
   "codemirror_mode": {
    "name": "ipython",
    "version": 3
   },
   "file_extension": ".py",
   "mimetype": "text/x-python",
   "name": "python",
   "nbconvert_exporter": "python",
   "pygments_lexer": "ipython3",
   "version": "3.11.5"
  }
 },
 "nbformat": 4,
 "nbformat_minor": 5
}
