{
 "cells": [
  {
   "cell_type": "code",
   "execution_count": 1,
   "id": "2bf451c1",
   "metadata": {},
   "outputs": [],
   "source": [
    "with open(\"France.txt\", \"r\", encoding=\"utf-8\") as f:\n",
    "    ebook = f.read()"
   ]
  },
  {
   "cell_type": "code",
   "execution_count": 2,
   "id": "8325fe82",
   "metadata": {},
   "outputs": [
    {
     "data": {
      "text/plain": [
       "['the', 'project', 'gutenberg', 'ebook', 'of', 'my', 'four']"
      ]
     },
     "execution_count": 2,
     "metadata": {},
     "output_type": "execute_result"
    }
   ],
   "source": [
    "import re\n",
    "#filtering only words using pattern matching\n",
    "pattern = re.compile(\"[a-zA-Z]+\")\n",
    "findings = re.findall(pattern, ebook.lower())\n",
    "findings[:7] #viewing first 7 words"
   ]
  },
  {
   "cell_type": "code",
   "execution_count": 3,
   "id": "08825f9f",
   "metadata": {},
   "outputs": [
    {
     "data": {
      "text/plain": [
       "35327"
      ]
     },
     "execution_count": 3,
     "metadata": {},
     "output_type": "execute_result"
    }
   ],
   "source": [
    "len(findings)"
   ]
  },
  {
   "cell_type": "code",
   "execution_count": 4,
   "id": "8f8bef26",
   "metadata": {},
   "outputs": [],
   "source": [
    "#counting the number of occurance of each word\n",
    "dt = {}\n",
    "for word in findings:\n",
    "    if word not in dt.keys():\n",
    "        dt[word]=1\n",
    "    else:\n",
    "        dt[word]=dt[word]+1\n",
    "#dt"
   ]
  },
  {
   "cell_type": "code",
   "execution_count": 6,
   "id": "44da9696",
   "metadata": {},
   "outputs": [
    {
     "data": {
      "text/plain": [
       "[(2055, 'the'),\n",
       " (1107, 'and'),\n",
       " (1080, 'to'),\n",
       " (938, 'a'),\n",
       " (803, 'i'),\n",
       " (782, 'of'),\n",
       " (590, 'in')]"
      ]
     },
     "execution_count": 6,
     "metadata": {},
     "output_type": "execute_result"
    }
   ],
   "source": [
    "#converting dictionary to list of tuples using list comprehension\n",
    "d_lst=[(value, key) for (key, value) in dt.items()]\n",
    "#sorted in descending to get words with highest occurance\n",
    "d_lst=sorted(d_lst, reverse=True) \n",
    "d_lst[:7]"
   ]
  },
  {
   "cell_type": "code",
   "execution_count": 7,
   "id": "b047fae9",
   "metadata": {},
   "outputs": [],
   "source": [
    "import nltk\n",
    "from nltk.corpus import stopwords\n",
    "eng_stopwords=stopwords.words(\"english\")\n",
    "#eng_stopwords"
   ]
  },
  {
   "cell_type": "code",
   "execution_count": 8,
   "id": "9616ad8b",
   "metadata": {},
   "outputs": [
    {
     "data": {
      "text/plain": [
       "[(241, 'said'),\n",
       " (188, 'one'),\n",
       " (99, 'mr'),\n",
       " (97, 'gutenberg'),\n",
       " (92, 'us'),\n",
       " (89, 'project'),\n",
       " (85, 'french')]"
      ]
     },
     "execution_count": 8,
     "metadata": {},
     "output_type": "execute_result"
    }
   ],
   "source": [
    "#extracting list of tuples filtered stopwords\n",
    "filtered_lst=[]\n",
    "filtered_words=[]\n",
    "for count, word in d_lst:\n",
    "    if word not in eng_stopwords:\n",
    "        filtered_lst.append((count, word))\n",
    "        filtered_words.append(word)\n",
    "filtered_lst[:7]"
   ]
  },
  {
   "cell_type": "code",
   "execution_count": 9,
   "id": "caad5421",
   "metadata": {},
   "outputs": [
    {
     "name": "stderr",
     "output_type": "stream",
     "text": [
      "[nltk_data] Downloading package opinion_lexicon to\n",
      "[nltk_data]     C:\\Users\\Lenovo\\AppData\\Roaming\\nltk_data...\n",
      "[nltk_data]   Package opinion_lexicon is already up-to-date!\n"
     ]
    },
    {
     "data": {
      "text/plain": [
       "True"
      ]
     },
     "execution_count": 9,
     "metadata": {},
     "output_type": "execute_result"
    }
   ],
   "source": [
    "#to get bag of positive and negetive words from library\n",
    "import nltk\n",
    "nltk.download('opinion_lexicon')"
   ]
  },
  {
   "cell_type": "code",
   "execution_count": 10,
   "id": "55bf65aa",
   "metadata": {},
   "outputs": [
    {
     "name": "stdout",
     "output_type": "stream",
     "text": [
      "pos:  846 neg:  675 neu:  15749\n"
     ]
    }
   ],
   "source": [
    "from nltk.corpus import opinion_lexicon\n",
    "\n",
    "positive_words = set(opinion_lexicon.positive())\n",
    "negative_words = set(opinion_lexicon.negative())\n",
    "\n",
    "pos=neu=neg=0\n",
    "for item in filtered_lst:\n",
    "    #print(item[0], item[1])\n",
    "    if item[1] in positive_words:\n",
    "        pos=pos+item[0]\n",
    "    elif item[1] in negative_words:\n",
    "        neg=neg+item[0]\n",
    "    else:\n",
    "        neu=neu+item[0]\n",
    "\n",
    "print(\"pos: \",pos,\"neg: \",neg,\"neu: \",neu)"
   ]
  },
  {
   "cell_type": "code",
   "execution_count": 11,
   "id": "7827ed9a",
   "metadata": {},
   "outputs": [],
   "source": [
    "import numpy as np\n",
    "import matplotlib.pyplot as plt \n",
    "%matplotlib inline"
   ]
  },
  {
   "cell_type": "code",
   "execution_count": 12,
   "id": "8f71fe60",
   "metadata": {},
   "outputs": [
    {
     "data": {
      "image/png": "[encoded data removed]",
      "text/plain": [
       "<Figure size 640x480 with 1 Axes>"
      ]
     },
     "metadata": {},
     "output_type": "display_data"
    }
   ],
   "source": [
    "count, word = zip(*filtered_lst)\n",
    "count=(count[:7])\n",
    "word=(word[:7])\n",
    "\n",
    "plt.bar(word, count)\n",
    "plt.show()"
   ]
  },
  {
   "cell_type": "code",
   "execution_count": null,
   "id": "b2ba9d86",
   "metadata": {},
   "outputs": [],
   "source": []
  }
 ],
 "metadata": {
  "kernelspec": {
   "display_name": "Python 3 (ipykernel)",
   "language": "python",
   "name": "python3"
  },
  "language_info": {
   "codemirror_mode": {
    "name": "ipython",
    "version": 3
   },
   "file_extension": ".py",
   "mimetype": "text/x-python",
   "name": "python",
   "nbconvert_exporter": "python",
   "pygments_lexer": "ipython3",
   "version": "3.11.5"
  }
 },
 "nbformat": 4,
 "nbformat_minor": 5
}
